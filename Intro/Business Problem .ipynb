{
    "cells": [
        {
            "metadata": {
                "collapsed": true
            },
            "cell_type": "markdown",
            "source": "Business Goal: Open a new pizza restaurant in Houston, TX\n\nIntroduction/Business Case: \nFor my project I plan to analyze various Houston neighborhoods to choose the best one for placing a new pizza restaurant.\nMy objective is to choose a location that where restuarants make of the highest proportion of its 10 top venues, but has NO (or very few) pizza restuarants. \nMy assumption is that if there are many existing restaurants in this neighborhood, then it would be easy to attract customers, as already they frequent that neighborhood to eat.\nHowever, we do not want existing competitors who sell the same food as us (other pizza restaurants), as this would make it much harder to be successful. "
        }
    ],
    "metadata": {
        "kernelspec": {
            "name": "python3",
            "display_name": "Python 3.7",
            "language": "python"
        },
        "language_info": {
            "name": "python",
            "version": "3.7.9",
            "mimetype": "text/x-python",
            "codemirror_mode": {
                "name": "ipython",
                "version": 3
            },
            "pygments_lexer": "ipython3",
            "nbconvert_exporter": "python",
            "file_extension": ".py"
        }
    },
    "nbformat": 4,
    "nbformat_minor": 1
}