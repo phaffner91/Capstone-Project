{
    "cells": [
        {
            "metadata": {
                "collapsed": true
            },
            "cell_type": "markdown",
            "source": "Data:\n\nFor this project I will be using two primary sources of data.\n1) location data of Houston Neighborhoods. \n2) Foursquare venue data\n\nLocation Data: \nI have put togehter a google sheet table of the 14 Houston neighborhoods I will be targeting along with their respective latitudes and longitueds.This data will be used to feed the Foursquare API in order to find restaurants and venues in that neighborhood. \n\nFoursquare venue data:\nBy feeding the houston neighborhood data into the foursquare API, I can generate a list of the top 10 venues in each neighborhood. \nWith this information I will be able to select the neighborhood that has the greatest proportion of restuarants in its area, but with very few existing pizza restaurants.  \nThis will allow be to objectively choose the best location to place my new pizza restaurant. "
        }
    ],
    "metadata": {
        "kernelspec": {
            "name": "python3",
            "display_name": "Python 3.7",
            "language": "python"
        },
        "language_info": {
            "name": "python",
            "version": "3.7.9",
            "mimetype": "text/x-python",
            "codemirror_mode": {
                "name": "ipython",
                "version": 3
            },
            "pygments_lexer": "ipython3",
            "nbconvert_exporter": "python",
            "file_extension": ".py"
        }
    },
    "nbformat": 4,
    "nbformat_minor": 1
}