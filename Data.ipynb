{
    "cells": [
        {
            "metadata": {
                "collapsed": true
            },
            "cell_type": "markdown",
            "source": "Data:\n\nFor this project I will be using two primary sources of data.\n1) location data of Houston Neighborhoods. \n2) Foursquare venue data\n\nLocation Data: \nI have put togehter a google sheet table of the 14 Houston neighborhoods I will be targeting along with their respective latitudes and longitueds.This data will be used to feed the Foursquare API in order to find restaurants and venues in that neighborhood. \n\nFoursquare venue data:\nBy feeding the houston neighborhood data into the foursquare API, I can generate a list of the top 10 venues in each neighborhood. \nWith this information I will be able to select the neighborhood that has the greatest proportion of restuarants in its area, but with very few existing pizza restaurants.  \nThis will allow be to objectively choose the best location to place my new pizza restaurant. "
        },
        {
            "metadata": {},
            "cell_type": "code",
            "source": "#Location Data:\nimport pandas as pd\n!wget -q -O 'h_data.csv' https://docs.google.com/spreadsheets/d/1HviOJilytLsUzM27PtmuYx3I6lQDKcPMx9MfioRkk9k/gviz/tq?tqx=out:csv\nneighborhoods = pd.read_csv(\"h_data.csv\")\nneighborhoods",
            "execution_count": 2,
            "outputs": [
                {
                    "output_type": "execute_result",
                    "execution_count": 2,
                    "data": {
                        "text/plain": "                     Neighborhood   Latitude  Longitude\n0        Garden Oaks / Oak Forest  29.826345 -95.417523\n1       The Heights / Timbergrove  29.796311 -95.413312\n2                        Memorial  29.770561 -95.508688\n3               Uptown / Galleria  29.740464 -95.479825\n4   Memorial Park / Rice Military  29.770999 -95.406581\n5                      River Oaks  29.750225 -95.426855\n6                Highland Village  29.736313 -95.448954\n7                  Shepherd Kirby  29.736508 -95.413534\n8                        Montrose  29.752623 -95.384910\n9              Downtown / Midtown  29.756378 -95.363284\n10                Museum District  29.726058 -95.389234\n11                West University  29.716216 -95.425374\n12                 Medical Center  29.698353 -95.396717\n13                       Bellaire  29.707893 -95.468803",
                        "text/html": "<div>\n<style scoped>\n    .dataframe tbody tr th:only-of-type {\n        vertical-align: middle;\n    }\n\n    .dataframe tbody tr th {\n        vertical-align: top;\n    }\n\n    .dataframe thead th {\n        text-align: right;\n    }\n</style>\n<table border=\"1\" class=\"dataframe\">\n  <thead>\n    <tr style=\"text-align: right;\">\n      <th></th>\n      <th>Neighborhood</th>\n      <th>Latitude</th>\n      <th>Longitude</th>\n    </tr>\n  </thead>\n  <tbody>\n    <tr>\n      <th>0</th>\n      <td>Garden Oaks / Oak Forest</td>\n      <td>29.826345</td>\n      <td>-95.417523</td>\n    </tr>\n    <tr>\n      <th>1</th>\n      <td>The Heights / Timbergrove</td>\n      <td>29.796311</td>\n      <td>-95.413312</td>\n    </tr>\n    <tr>\n      <th>2</th>\n      <td>Memorial</td>\n      <td>29.770561</td>\n      <td>-95.508688</td>\n    </tr>\n    <tr>\n      <th>3</th>\n      <td>Uptown / Galleria</td>\n      <td>29.740464</td>\n      <td>-95.479825</td>\n    </tr>\n    <tr>\n      <th>4</th>\n      <td>Memorial Park / Rice Military</td>\n      <td>29.770999</td>\n      <td>-95.406581</td>\n    </tr>\n    <tr>\n      <th>5</th>\n      <td>River Oaks</td>\n      <td>29.750225</td>\n      <td>-95.426855</td>\n    </tr>\n    <tr>\n      <th>6</th>\n      <td>Highland Village</td>\n      <td>29.736313</td>\n      <td>-95.448954</td>\n    </tr>\n    <tr>\n      <th>7</th>\n      <td>Shepherd Kirby</td>\n      <td>29.736508</td>\n      <td>-95.413534</td>\n    </tr>\n    <tr>\n      <th>8</th>\n      <td>Montrose</td>\n      <td>29.752623</td>\n      <td>-95.384910</td>\n    </tr>\n    <tr>\n      <th>9</th>\n      <td>Downtown / Midtown</td>\n      <td>29.756378</td>\n      <td>-95.363284</td>\n    </tr>\n    <tr>\n      <th>10</th>\n      <td>Museum District</td>\n      <td>29.726058</td>\n      <td>-95.389234</td>\n    </tr>\n    <tr>\n      <th>11</th>\n      <td>West University</td>\n      <td>29.716216</td>\n      <td>-95.425374</td>\n    </tr>\n    <tr>\n      <th>12</th>\n      <td>Medical Center</td>\n      <td>29.698353</td>\n      <td>-95.396717</td>\n    </tr>\n    <tr>\n      <th>13</th>\n      <td>Bellaire</td>\n      <td>29.707893</td>\n      <td>-95.468803</td>\n    </tr>\n  </tbody>\n</table>\n</div>"
                    },
                    "metadata": {}
                }
            ]
        },
        {
            "metadata": {},
            "cell_type": "code",
            "source": "#Foursquare Data:\nimport requests # library to handle requests\nfrom pandas.io.json import json_normalize # tranform JSON file into a pandas datafram\n#Define 4Square Credentials\nCLIENT_ID = 'Y3CRNKK4MYSH0MUSM05PCWBBXJQ4TBBHXIGSFJSC15OJS13U' # your Foursquare ID\nCLIENT_SECRET = 'QEGJVIW1HUVLTHVWRVF4AO5FVTXFP5VSFLNEZ2I5MSZ32Y0A' # your Foursquare Secret\nVERSION = '20180605' # Foursquare API version\nLIMIT = 100 # A default Foursquare API limit value\n\n# function that extracts the category of the venue\ndef get_category_type(row):\n    try:\n        categories_list = row['categories']\n    except:\n        categories_list = row['venue.categories']\n        \n    if len(categories_list) == 0:\n        return None\n    else:\n        return categories_list[0]['name']\n    \n    #Function to get top venues from each Target Neighborhood in Houston\n#Set radius at 2,000m as average neighborhood has a diameter of about 4,000 meters\ndef getNearbyVenues(names, latitudes, longitudes, radius=2000):\n    \n    venues_list=[]\n    for name, lat, lng in zip(names, latitudes, longitudes):\n        print(name)\n            \n        # create the API request URL\n        url = 'https://api.foursquare.com/v2/venues/explore?&client_id={}&client_secret={}&v={}&ll={},{}&radius={}&limit={}'.format(\n            CLIENT_ID, \n            CLIENT_SECRET, \n            VERSION, \n            lat, \n            lng, \n            radius, \n            LIMIT)\n            \n        # make the GET request\n        results = requests.get(url).json()[\"response\"]['groups'][0]['items']\n        \n        # return only relevant information for each nearby venue\n        venues_list.append([(\n            name, \n            lat, \n            lng, \n            v['venue']['name'], \n            v['venue']['location']['lat'], \n            v['venue']['location']['lng'],  \n            v['venue']['categories'][0]['name']) for v in results])\n\n    nearby_venues = pd.DataFrame([item for venue_list in venues_list for item in venue_list])\n    nearby_venues.columns = ['Neighborhood', \n                  'Neighborhood Latitude', \n                  'Neighborhood Longitude', \n                  'Venue', \n                  'Venue Latitude', \n                  'Venue Longitude', \n                  'Venue Category']\n    \n    return(nearby_venues)\n\nhouston_venues = getNearbyVenues(names=neighborhoods['Neighborhood'],\n                                   latitudes=neighborhoods['Latitude'],\n                                   longitudes=neighborhoods['Longitude']\n                                  )\nhouston_venues.head()",
            "execution_count": 4,
            "outputs": [
                {
                    "output_type": "stream",
                    "text": "Garden Oaks / Oak Forest\nThe Heights / Timbergrove\nMemorial\nUptown / Galleria\nMemorial Park / Rice Military\nRiver Oaks\nHighland Village\nShepherd Kirby\nMontrose\nDowntown / Midtown\nMuseum District\nWest University\nMedical Center\nBellaire\n",
                    "name": "stdout"
                },
                {
                    "output_type": "execute_result",
                    "execution_count": 4,
                    "data": {
                        "text/plain": "               Neighborhood  Neighborhood Latitude  Neighborhood Longitude  \\\n0  Garden Oaks / Oak Forest              29.826345              -95.417523   \n1  Garden Oaks / Oak Forest              29.826345              -95.417523   \n2  Garden Oaks / Oak Forest              29.826345              -95.417523   \n3  Garden Oaks / Oak Forest              29.826345              -95.417523   \n4  Garden Oaks / Oak Forest              29.826345              -95.417523   \n\n               Venue  Venue Latitude  Venue Longitude Venue Category  \n0   Bernies Backyard       29.826904       -95.410065     Food Truck  \n1  Brothers Pizzeria       29.821651       -95.409890    Pizza Place  \n2         LA Fitness       29.828649       -95.409937            Gym  \n3     Petrol Station       29.821395       -95.424424            Bar  \n4         Cottonwood       29.818285       -95.410011    Beer Garden  ",
                        "text/html": "<div>\n<style scoped>\n    .dataframe tbody tr th:only-of-type {\n        vertical-align: middle;\n    }\n\n    .dataframe tbody tr th {\n        vertical-align: top;\n    }\n\n    .dataframe thead th {\n        text-align: right;\n    }\n</style>\n<table border=\"1\" class=\"dataframe\">\n  <thead>\n    <tr style=\"text-align: right;\">\n      <th></th>\n      <th>Neighborhood</th>\n      <th>Neighborhood Latitude</th>\n      <th>Neighborhood Longitude</th>\n      <th>Venue</th>\n      <th>Venue Latitude</th>\n      <th>Venue Longitude</th>\n      <th>Venue Category</th>\n    </tr>\n  </thead>\n  <tbody>\n    <tr>\n      <th>0</th>\n      <td>Garden Oaks / Oak Forest</td>\n      <td>29.826345</td>\n      <td>-95.417523</td>\n      <td>Bernies Backyard</td>\n      <td>29.826904</td>\n      <td>-95.410065</td>\n      <td>Food Truck</td>\n    </tr>\n    <tr>\n      <th>1</th>\n      <td>Garden Oaks / Oak Forest</td>\n      <td>29.826345</td>\n      <td>-95.417523</td>\n      <td>Brothers Pizzeria</td>\n      <td>29.821651</td>\n      <td>-95.409890</td>\n      <td>Pizza Place</td>\n    </tr>\n    <tr>\n      <th>2</th>\n      <td>Garden Oaks / Oak Forest</td>\n      <td>29.826345</td>\n      <td>-95.417523</td>\n      <td>LA Fitness</td>\n      <td>29.828649</td>\n      <td>-95.409937</td>\n      <td>Gym</td>\n    </tr>\n    <tr>\n      <th>3</th>\n      <td>Garden Oaks / Oak Forest</td>\n      <td>29.826345</td>\n      <td>-95.417523</td>\n      <td>Petrol Station</td>\n      <td>29.821395</td>\n      <td>-95.424424</td>\n      <td>Bar</td>\n    </tr>\n    <tr>\n      <th>4</th>\n      <td>Garden Oaks / Oak Forest</td>\n      <td>29.826345</td>\n      <td>-95.417523</td>\n      <td>Cottonwood</td>\n      <td>29.818285</td>\n      <td>-95.410011</td>\n      <td>Beer Garden</td>\n    </tr>\n  </tbody>\n</table>\n</div>"
                    },
                    "metadata": {}
                }
            ]
        },
        {
            "metadata": {},
            "cell_type": "code",
            "source": "",
            "execution_count": null,
            "outputs": []
        }
    ],
    "metadata": {
        "kernelspec": {
            "name": "python3",
            "display_name": "Python 3.7",
            "language": "python"
        },
        "language_info": {
            "name": "python",
            "version": "3.7.9",
            "mimetype": "text/x-python",
            "codemirror_mode": {
                "name": "ipython",
                "version": 3
            },
            "pygments_lexer": "ipython3",
            "nbconvert_exporter": "python",
            "file_extension": ".py"
        }
    },
    "nbformat": 4,
    "nbformat_minor": 1
}